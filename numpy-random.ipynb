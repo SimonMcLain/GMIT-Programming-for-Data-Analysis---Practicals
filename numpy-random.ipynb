{
 "cells": [
  {
   "cell_type": "markdown",
   "metadata": {},
   "source": [
    "![title](img/NumPy.jpeg)"
   ]
  },
  {
   "cell_type": "markdown",
   "metadata": {},
   "source": [
    "# Programming for Data Analysis Practical Assignment 2018\n",
    "\n",
    "\n",
    "## Create a Jupyter notebook explaining the use of the numpy.random package in Python. Including detailed explainations of at lease five of the distributions provided for the package. \n",
    "\n",
    "## There are four distinct tasks to be carried out:\n",
    "\n",
    "\n",
    "### 1. Explain the overall purpose of the package.\n",
    "\n",
    "### 2. Explain the use of the \"Simple random data\" and Permutations\" functions.\n",
    "\n",
    "### 3. Explain the use and purpose of at least five \"Distributions\" functions.\n",
    "\n",
    "### 4. Explain the use of seeds in generating pseudorandom numbers."
   ]
  },
  {
   "cell_type": "code",
   "execution_count": 1,
   "metadata": {},
   "outputs": [],
   "source": [
    "# Import the package for array operations and plotting\n",
    "import matplotlib.pyplot as plt\n",
    "%matplotlib inline\n",
    "import numpy as np\n",
    "from numpy import random"
   ]
  },
  {
   "cell_type": "markdown",
   "metadata": {},
   "source": [
    "### Task 1\n",
    "#### Explain the overall purpose of the package"
   ]
  },
  {
   "cell_type": "markdown",
   "metadata": {},
   "source": [
    "NumPy, short for Numerical Python, is a package for performing efficient multidimensional array operations. It enables reading and writing arithmatic operations on large arrays of data without having to write loops. It includes a C Application Programming Interface (API) that connects it with C, C++ and FORTRAN libraries. When used with other packages such, as matplotlib it enables the plotting from arrays that contain large amounts of data and the calculation of summary statistics. It also includes the a package for producing pseudorandom numbers. \n",
    "\n",
    "numpy.random is the routine docstring in the NumPy package for the generation of pseudorandom numbers. The purpose of this package is to create random numbers based on various different types of statistical distributions. Such as uniform, binomial, chi-squared  et cetera. Further details regarding how pseudorandom numbers are generated can be found within my answer to Task 4.  \n",
    "\n",
    "Random numbers generators have a variety of applications numpy.random has the capability to generate numbers according to a known statistical distribution. In data analytics once the statistical properties of a system under investigation is known, for example it has as binomial distribution rather than collecting the sample data one use the package to generate sample data that is identical to the system of study, potentially saving much time and expense. This process of performing an experiment using randomly generated data is called simulation. \n",
    "\n",
    "The NumPy.random package can also be used randomly select samples from a population to check the validity of conclusions that are being drawn from the whole poplution select random samples to check the hypothesis remains true for a smaller popluation size. \n",
    "\n",
    "This method using random numbers and probability to solve problems is called the Monte Carlo Method. The name was coined by S. Ulam and Nicholas Metropolis (Hoffman, 1998; Metropolis and Ulam, 1949) in reference to gambling games played in Monte Carlo Monaco..\n",
    "\n",
    "It is a method for iteratively evaluating a model with known statistical attributes using sets of random numbers as inputs. This method is often used when the model is complex, nonlinear, or involves more than just a couple uncertain parameters. A simulation can typically involve over 10,000 evaluations of the model, a task which in the past was only practical using super computers. \n",
    "(Courtesy of Agusteen Peter)"
   ]
  },
  {
   "cell_type": "markdown",
   "metadata": {},
   "source": [
    "### Task 2\n",
    "#### Explain the use of \"Simple random data\" and \"Permutations\" functions"
   ]
  },
  {
   "cell_type": "markdown",
   "metadata": {},
   "source": [
    "#### Simple random data\n",
    "\n",
    "The NumPy v1.15 manual lists ten functions for Random Sampling of Simple random data, however four are essentially duplicates that return random floats in the half-open interval. \n",
    "\n",
    "Each function accepts interger and/ or float paramaters and returns intergers, or ndarray of intergers based on the \n",
    "size parameter given. "
   ]
  },
  {
   "cell_type": "code",
   "execution_count": 2,
   "metadata": {},
   "outputs": [
    {
     "data": {
      "text/plain": [
       "array([[[0.08709127, 0.94558862, 0.49246926],\n",
       "        [0.76814818, 0.18022971, 0.23885035]],\n",
       "\n",
       "       [[0.2364749 , 0.91232349, 0.89326408],\n",
       "        [0.57061048, 0.65606933, 0.62564777]],\n",
       "\n",
       "       [[0.83528121, 0.90470133, 0.08378022],\n",
       "        [0.15647137, 0.19575483, 0.47038761]]])"
      ]
     },
     "execution_count": 2,
     "metadata": {},
     "output_type": "execute_result"
    }
   ],
   "source": [
    "# numpy.random.randn() uniform distribution between zero and up to but not including 1\n",
    "# Create a three dimensional random array based on a uniform distribution\n",
    "np.random.rand(3,2, 3)"
   ]
  },
  {
   "cell_type": "markdown",
   "metadata": {},
   "source": [
    "In a uniform distribution values are roughly evenly spread across the sample range. It would be used to produce random values in cases where we have no preference for one value over another"
   ]
  },
  {
   "cell_type": "code",
   "execution_count": 27,
   "metadata": {},
   "outputs": [
    {
     "data": {
      "image/png": "[encoded data removed]",
      "text/plain": [
       "<Figure size 432x288 with 1 Axes>"
      ]
     },
     "metadata": {
      "needs_background": "light"
     },
     "output_type": "display_data"
    }
   ],
   "source": [
    "# Plot the output of the NumPy.random.rand() function in a histogram\n",
    "arr = np.random.rand(1000)\n",
    "count, bins, ignored = plt.hist(arr, color='b', density=True)\n",
    "plt.axis([0, 1, 0, 1.2])\n",
    "plt.title(\"A uniform distribution using NumPy.random.rand()\")\n",
    "plt.show()"
   ]
  },
  {
   "cell_type": "code",
   "execution_count": 28,
   "metadata": {},
   "outputs": [
    {
     "data": {
      "image/png": "[encoded data removed]",
      "text/plain": [
       "<Figure size 432x288 with 1 Axes>"
      ]
     },
     "metadata": {
      "needs_background": "light"
     },
     "output_type": "display_data"
    }
   ],
   "source": [
    "\"\"\"\n",
    "Scatter plot of 500 x, y values from NumPy.random.randn() returning a standard normal distribution, centred around zero\n",
    "with a variance of 1\n",
    "\"\"\"\n",
    "\n",
    "x = np.random.randn(500)\n",
    "y = np.random.randn(500)\n",
    "plt.scatter(x, y, color='b')\n",
    "plt.title(\"A standard normal distribution using NumPy.random.randn()\")\n",
    "plt.show()\n"
   ]
  },
  {
   "cell_type": "markdown",
   "metadata": {},
   "source": [
    "#### Permutations"
   ]
  },
  {
   "cell_type": "markdown",
   "metadata": {},
   "source": [
    "The permutations function randomly arranges a series of numbers. And can be used to change the order of samples in a give \n",
    "range or list. \n",
    "\n",
    "This can be done either by specifying a range:"
   ]
  },
  {
   "cell_type": "code",
   "execution_count": 29,
   "metadata": {},
   "outputs": [
    {
     "data": {
      "text/plain": [
       "array([11, 19, 29, 44,  2, 32, 45,  4, 48, 42, 12, 10,  9, 30, 15,  3, 39,\n",
       "       52, 51,  5,  6, 28, 33, 24,  7, 37, 13, 26, 21, 46, 20, 40, 35, 17,\n",
       "       43, 22, 14, 38, 18, 27, 23, 50, 47,  8, 41, 16,  1, 49, 31, 25, 36,\n",
       "       34])"
      ]
     },
     "execution_count": 29,
     "metadata": {},
     "output_type": "execute_result"
    }
   ],
   "source": [
    "# Imagine assigning a number to each card in a deck of cards and creating a program to shuffle them randomly\n",
    "np.random.permutation(range(1, 53))"
   ]
  },
  {
   "cell_type": "markdown",
   "metadata": {},
   "source": [
    "Or by passing a list, in this case tuples denoting the face cards from a deck of cards"
   ]
  },
  {
   "cell_type": "code",
   "execution_count": 30,
   "metadata": {},
   "outputs": [
    {
     "data": {
      "text/plain": [
       "array(['Ace', 'Queen', 'King', 'Joker', 'Jack'], dtype='<U5')"
      ]
     },
     "execution_count": 30,
     "metadata": {},
     "output_type": "execute_result"
    }
   ],
   "source": [
    "# Arrange a list face cards a random order\n",
    "np.random.permutation(['Ace', 'Queen', 'King', 'Jack', 'Joker'])"
   ]
  },
  {
   "cell_type": "markdown",
   "metadata": {},
   "source": [
    "### Task 3\n",
    "#### Explain the use and purpose of at least 5 \"Distributions\" functions"
   ]
  },
  {
   "cell_type": "markdown",
   "metadata": {},
   "source": [
    "#### Binomial distributions\n",
    "\n",
    "Binomial distributions give the discrete (whole number) probability distribution for obtaining a number of successes out of a series of trials and can be expressed by the equation:\n",
    "\n",
    "![title](img/binomial.jpg)\n",
    "\n",
    "Where P is the probability, and n is the number of successes out of N Bernoulli trials. \n",
    "\n",
    "Binomial distributions are the result of repeated trials were there are two possible outcomes, typically termed either success or failure. The probability of success is constant and the trials are independent, in such the outcome of one or more of the trails do not effect one another. Coin tosses are often used to illustate binomial experiments as there are two possible outcomes, either heads or tails. If the desired outcome is heads, and the coin is unbiased, the probability of tossing the coin and successfully obtaining a heads is 50%. \n",
    "\n"
   ]
  },
  {
   "cell_type": "code",
   "execution_count": 31,
   "metadata": {},
   "outputs": [
    {
     "data": {
      "text/plain": [
       "array([6, 7, 3, 5, 6, 6, 2, 5, 7, 2])"
      ]
     },
     "execution_count": 31,
     "metadata": {},
     "output_type": "execute_result"
    }
   ],
   "source": [
    "\"\"\"numpy.random.binomial(n, p, size=None) n = number of trials, p = probability of successfull outcomes, \n",
    "size = times the trials are repeated\"\"\"\n",
    "\n",
    "# Create a game where you toss a coin ten times, and count how many times 'heads' is returned.\n",
    "# Repeat the game ten times\n",
    "\n",
    "np.random.binomial(10, 0.5, 10)\n"
   ]
  },
  {
   "cell_type": "markdown",
   "metadata": {},
   "source": [
    "The above array displays, according to a binomial distribution, the randomly selected times that 'heads' has been returned for eacah game of 10 coin tosses, repeated 10 times. "
   ]
  },
  {
   "cell_type": "code",
   "execution_count": 32,
   "metadata": {},
   "outputs": [
    {
     "data": {
      "image/png": "[encoded data removed]",
      "text/plain": [
       "<Figure size 432x288 with 1 Axes>"
      ]
     },
     "metadata": {
      "needs_background": "light"
     },
     "output_type": "display_data"
    }
   ],
   "source": [
    "\"\"\"Charting in a histogram of a binomial distribution you can see who often heads was returned for each game of 10 coin tosses\n",
    "this time repeated 1000 times\"\"\"\n",
    "\n",
    "plt.hist(np.random.binomial(10, 0.5, 1000), color='b')\n",
    "plt.xlabel('Number of times heads is returned in each tosses ')\n",
    "plt.ylabel('Total Tosses over ')\n",
    "plt.title(\"Binomial distribution\")\n",
    "plt.show()"
   ]
  },
  {
   "cell_type": "markdown",
   "metadata": {},
   "source": [
    "#### A chisquare distribution\n",
    "\n",
    "This function returns randomly drawn samples from a chi-square distribution according to the parameters provided. \n",
    "\n",
    "![title](img/chi.png)\n",
    "\n",
    "Where O equals the observed values and E equals expected values. Chi-squared is equal to the sum of all the observed values, minus the expected values, squared, and divided by the expected values. \n",
    "\n",
    "The chi-squared test is used in hypothesis testing as it measures to what extent differences in observed values could actually be random, any patterns being due to chance, because it measures how well the observed distribution of data fits with the distribution that would be expected if the variables were independent.\n",
    "\n",
    "It is only used for categorical (nominal) values, values that can be counted and divided into categories, and cannot be used for solely numerical (ordinal) values. For instance you could ask a random sample of people do would they prefer to win a beach holiday or a hiking holiday. Divide the sample popluation into male and female categories, and then perform a chi-squared test to indicate if gender influences which type of holiday is preferred. \n",
    "\n",
    "In numpy.random.chisquare(df, size=None) df is equal to the degrees of freedom and must be greater than zero. Degrees of freedom are defined as the number of independent values or quantities which can be assigned to a statistical distribution. Size is equal to the number of samples drawn. \n",
    "\n",
    "Random data with a chi-squared distribution would be used when we want to create a sample with noise and test a algorism to detect relationships"
   ]
  },
  {
   "cell_type": "code",
   "execution_count": 33,
   "metadata": {},
   "outputs": [
    {
     "data": {
      "text/plain": [
       "array([3.27320413, 3.69796624, 0.04176352, 3.55530928])"
      ]
     },
     "execution_count": 33,
     "metadata": {},
     "output_type": "execute_result"
    }
   ],
   "source": [
    "# Select randomly select 4 samples with two degrees of freedom\n",
    "np.random.chisquare(2, 4)"
   ]
  },
  {
   "cell_type": "code",
   "execution_count": 34,
   "metadata": {},
   "outputs": [
    {
     "data": {
      "image/png": "[encoded data removed]",
      "text/plain": [
       "<Figure size 432x288 with 1 Axes>"
      ]
     },
     "metadata": {
      "needs_background": "light"
     },
     "output_type": "display_data"
    }
   ],
   "source": [
    "# Plot a histogram randomly selecting 40 samples with a Pareto Index of 1\n",
    "\n",
    "plt.hist(np.random.chisquare(100, 10000),color='b')\n",
    "plt.xlabel('X^2')\n",
    "plt.ylabel('Probability density')\n",
    "plt.title(\"A chisquare plot\")\n",
    "plt.show()"
   ]
  },
  {
   "cell_type": "markdown",
   "metadata": {},
   "source": [
    "#### A normal distribution\n",
    "Data is normally distributed when 50% of the values are above the mean and 50% are below the mean. In other words mean = median = mode. And where 99.7% of the data is within three standard deviations of the mean.\n",
    "\n",
    "The probablility of a normal distribution is mathematically expressed as:\n",
    "\n",
    "![title](img/normal.jpg)\n",
    "\n",
    "The numpy.random.normal() distribtion function will randomly generate values according to this normal distribution. "
   ]
  },
  {
   "cell_type": "code",
   "execution_count": 35,
   "metadata": {},
   "outputs": [
    {
     "data": {
      "text/plain": [
       "array([ 0.94677296,  1.35698911, -0.09242178, -0.5362538 , -0.01206022,\n",
       "        0.35805753,  1.26068874, -0.23103784, -2.81841314, -0.2046836 ])"
      ]
     },
     "execution_count": 35,
     "metadata": {},
     "output_type": "execute_result"
    }
   ],
   "source": [
    "# Generate ten random number is a normal distribution, centered around a mean of zero with a standard deviation of one.\n",
    "np.random.normal(0, 1.0, 10)"
   ]
  },
  {
   "cell_type": "code",
   "execution_count": 36,
   "metadata": {},
   "outputs": [
    {
     "data": {
      "image/png": "[encoded data removed]",
      "text/plain": [
       "<Figure size 432x288 with 1 Axes>"
      ]
     },
     "metadata": {
      "needs_background": "light"
     },
     "output_type": "display_data"
    }
   ],
   "source": [
    "# Plot a histogram of 1000 random numbers with a mean of 100 and a standard deviation of 2\n",
    "plt.hist(np.random.normal(100, 2.0, 1000), color='b')\n",
    "plt.title(\"A Normal Distribution\")\n",
    "plt.show()"
   ]
  },
  {
   "cell_type": "markdown",
   "metadata": {},
   "source": [
    "#### A pareto distribution\n",
    "A Pareto distribution is based on the Pareto Principle that describes how inputs and outputs are unbalanced. It is named after economist Vilfredo Pareto and originated when he proposed that 80% of the land in Italy was owned by 20% of the population. It is commonly used in business to describe either that 80% of output is generated from 20% of the input. For instance 80% of revenue is generated by 20% of customers. As well as in continuous improvement, when it is often described you can get 80% of the benefits by addressing 20% of the problems. \n",
    "\n",
    "A pareto distribution is expressed mathematically as follows:\n",
    "\n",
    "![title](img/pareto.jpg)\n",
    "\n",
    "numpy.random.pareto() generates random samples from a pareto distribution where you input the shape (aka slope or Pareto Index) of the distribution and number of samples to be drawn. \n",
    "\n",
    "Random values with a Pareto distribution would be created when one wants the majority to be a specific value and then to \n",
    "'tail-off' at a give rate, the tail-off rate is known as either the slope or the Pareto Index. "
   ]
  },
  {
   "cell_type": "code",
   "execution_count": 37,
   "metadata": {},
   "outputs": [
    {
     "data": {
      "text/plain": [
       "array([0.03972673, 0.07284497, 0.01873396, 0.00632446, 0.04032115,\n",
       "       0.32214078, 0.28505386, 0.14439132, 0.08711075, 0.00855618])"
      ]
     },
     "execution_count": 37,
     "metadata": {},
     "output_type": "execute_result"
    }
   ],
   "source": [
    "# Generate 10 random numbers with a pareto distribution with a Pareto Index of 10\n",
    "np.random.pareto(10, 10)"
   ]
  },
  {
   "cell_type": "code",
   "execution_count": 38,
   "metadata": {},
   "outputs": [
    {
     "data": {
      "image/png": "[encoded data removed]",
      "text/plain": [
       "<Figure size 432x288 with 1 Axes>"
      ]
     },
     "metadata": {
      "needs_background": "light"
     },
     "output_type": "display_data"
    }
   ],
   "source": [
    "# Plot 1000 values on a Pareto Histogram with a slope of ten. 80% (800) of these values\n",
    "a, m = 10, 10\n",
    "s = (np.random.pareto(a, 1000) + 1) * m \n",
    "count, bins, _ = plt.hist(s, 100, color='b', density=True)\n",
    "fit = a*m**a / bins**(a+1)\n",
    "plt.plot(bins, max(count)*fit/max(fit), linewidth=2, color='r')\n",
    "plt.title(\"A Pareto distribution\")\n",
    "plt.show()"
   ]
  },
  {
   "cell_type": "code",
   "execution_count": 39,
   "metadata": {},
   "outputs": [
    {
     "data": {
      "text/plain": [
       "array([0.36202173, 0.35354673, 0.6510336 , 0.42991569, 0.63029086,\n",
       "       0.12901207, 0.16275511, 0.10281419, 0.932664  , 0.39470634])"
      ]
     },
     "execution_count": 39,
     "metadata": {},
     "output_type": "execute_result"
    }
   ],
   "source": [
    "np.random.uniform(low=0.0, high=1.0, size=10)"
   ]
  },
  {
   "cell_type": "markdown",
   "metadata": {},
   "source": [
    "#### A uniform distribution\n",
    "\n",
    "![title](img/uniform.jpg)\n",
    "\n",
    "In a uniform distribution values are roughly evenly spread across the sample range. It would be used random values in cases where we have no preference for one value over another"
   ]
  },
  {
   "cell_type": "code",
   "execution_count": 40,
   "metadata": {},
   "outputs": [
    {
     "data": {
      "image/png": "[encoded data removed]",
      "text/plain": [
       "<Figure size 432x288 with 1 Axes>"
      ]
     },
     "metadata": {
      "needs_background": "light"
     },
     "output_type": "display_data"
    }
   ],
   "source": [
    "plt.hist(np.random.uniform(low=0.0, high=1.0, size=10000), color='b')\n",
    "plt.title(\"A uniform distribution\")\n",
    "plt.show()"
   ]
  },
  {
   "cell_type": "markdown",
   "metadata": {},
   "source": [
    "### Task 4"
   ]
  },
  {
   "cell_type": "markdown",
   "metadata": {},
   "source": [
    "#### Explain the use of seeds in generating pseudorandom numbers."
   ]
  },
  {
   "cell_type": "markdown",
   "metadata": {},
   "source": [
    "Computers cannot generate truly random numbers, a truely random number can only be generated by converting actual random events into a series of numbers, for instance observing random events in nature, such as micro-eddies a flowing river or measuring static electical noise from a television set. Computers use algorisims to calculate pseudorandom numbers (also known as PRNG's) that appear to be random numbers, computers require an starting number or 'Seed', to input into their algorism. Importantly, if the same seed is used in the same algorithm then the same random number(s) are always produced. \n",
    "\n",
    "The quality of the random number produced, in that it looks random and is difficult to predict or calculate, is based on the randomness of the seed and its length. Pseudorandom numbers repeat over given intervals (periods). The repeat is based on the length of the original seed. This is important where pseudorandom numbers are used for security, such as banking and internet security applications where data is encoded. The longer the seed the larger the poplulation from which the random number is generated and the longer the intervals between periods where they repeat. Therefore security increases as the length of the seed increases. In security applications the objective is to be 'practically safe' in such that the length of time required to compute all the possible seeds for a given PRNG makes it impractical to attempt to calculate it. However as computational power of computers increases longer seeds are required in order to remain 'practically safe'. \n",
    "\n",
    "A seed can be automatically selected based on a computer system's random number generator device or its clock. A seed can also be set by the user, again if the same seed is used in the future the same set of random numbers is created.\n",
    "\n",
    "The generation of pseudorandom numbers in NumPy is based on the Mersenne Twister: a 623-dimensionally equidistributed uniform pseudorandom number generator. \n",
    "\n",
    "The Mersenne Twister was first proposed in 1998 by Makato Matsumoto and Takuji Nishimura of Keio University to solve the problem of generating 'high-quality' random numbers with computers, it is now the basis of how the NumPy package creates pseudorandom numbers. It is important to note that PRNG's are not truly random numbers, they are based on complex algorithms such as MT19937. \n",
    "\n",
    "numpy.random.RandomState is the container for the random Mersenne Twister pseudo-random number generator. The call numpy.random.seed() allows the seed to be set."
   ]
  },
  {
   "cell_type": "code",
   "execution_count": 41,
   "metadata": {},
   "outputs": [
    {
     "name": "stdout",
     "output_type": "stream",
     "text": [
      "[5 2 3 4 1]\n",
      "[5 1 4 2 3]\n",
      "[5 3 1 4 2]\n"
     ]
    }
   ],
   "source": [
    "# Create an 3 lists, each containing the numbers 1 - 5 and randomly shuffle them. \n",
    "# A different combination will occur in each list every time the code is run. \n",
    "\n",
    "for i in range(3):\n",
    "    x = np.arange(1,6)\n",
    "    np.random.shuffle(x)\n",
    "    print(x)"
   ]
  },
  {
   "cell_type": "code",
   "execution_count": 42,
   "metadata": {},
   "outputs": [
    {
     "name": "stdout",
     "output_type": "stream",
     "text": [
      "[3 2 5 1 4]\n",
      "[3 2 5 1 4]\n",
      "[3 2 5 1 4]\n"
     ]
    }
   ],
   "source": [
    "# With the same array set the set seed, the same combination will occur in each list every time the code is run \n",
    "\n",
    "for i in range(3):\n",
    "    x = np.arange(1,6)\n",
    "    random.seed(1)  \n",
    "    np.random.shuffle(x)\n",
    "    print(x)"
   ]
  },
  {
   "cell_type": "markdown",
   "metadata": {},
   "source": [
    "The Numpy user manual strongly recommends that users do not use the set_state() and get_state() unless they know \n",
    "exactly what they are doing and that they are not needed to work with any of the random distributions in NumPy.\n",
    "\n",
    "numpy.random.get_state() returns a tuple representing the internal state of the generator.\n",
    "\n",
    "numpy.random.set_state() sets the internal state of the generator from a tuple. For use if one has reason to manually \n",
    "(re-)set the internal state of the “Mersenne Twister”[1] pseudo-random number generating algorithm."
   ]
  },
  {
   "cell_type": "code",
   "execution_count": 43,
   "metadata": {},
   "outputs": [
    {
     "name": "stderr",
     "output_type": "stream",
     "text": [
      "C:\\ProgramData\\Anaconda3\\lib\\site-packages\\matplotlib\\axes\\_axes.py:6571: UserWarning: The 'normed' kwarg is deprecated, and has been replaced by the 'density' kwarg.\n",
      "  warnings.warn(\"The 'normed' kwarg is deprecated, and has been \"\n"
     ]
    },
    {
     "data": {
      "image/png": "[encoded data removed]",
      "text/plain": [
       "<Figure size 432x288 with 1 Axes>"
      ]
     },
     "metadata": {
      "needs_background": "light"
     },
     "output_type": "display_data"
    }
   ],
   "source": [
    "# Fixing random state for reproducibility\n",
    "np.random.seed(2)\n",
    "\n",
    "mu, sigma = 100, 15\n",
    "x = mu + sigma * np.random.randn(1000000)\n",
    "\n",
    "# the histogram of the data\n",
    "n, bins, patches = plt.hist(x, 50, normed='1', facecolor='g', alpha=0.75)\n",
    "plt.xlabel('IQ')\n",
    "plt.ylabel('Probability')\n",
    "plt.title('A repeatable Histogram of IQ')\n",
    "plt.text(45, .025, r'$\\mu=100,\\ \\sigma=15$')\n",
    "plt.axis([40, 160, 0, 0.03])\n",
    "plt.grid(False)\n",
    "plt.show()\n",
    "\n",
    "# Code courtesy of https://matplotlib.org/users/pyplot_tutorial.html"
   ]
  },
  {
   "cell_type": "markdown",
   "metadata": {},
   "source": [
    "## End"
   ]
  },
  {
   "cell_type": "code",
   "execution_count": null,
   "metadata": {},
   "outputs": [],
   "source": []
  }
 ],
 "metadata": {
  "kernelspec": {
   "display_name": "Python 3",
   "language": "python",
   "name": "python3"
  },
  "language_info": {
   "codemirror_mode": {
    "name": "ipython",
    "version": 3
   },
   "file_extension": ".py",
   "mimetype": "text/x-python",
   "name": "python",
   "nbconvert_exporter": "python",
   "pygments_lexer": "ipython3",
   "version": "3.7.0"
  }
 },
 "nbformat": 4,
 "nbformat_minor": 2
}
